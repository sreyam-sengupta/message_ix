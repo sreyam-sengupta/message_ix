{
 "cells": [
  {
   "cell_type": "code",
   "execution_count": 1,
   "metadata": {},
   "outputs": [],
   "source": [
    "# Header\n",
    "import gams.transfer as gt\n",
    "import numpy as np"
   ]
  },
  {
   "cell_type": "code",
   "execution_count": 2,
   "metadata": {},
   "outputs": [],
   "source": [
    "# Reading out the GDX file into a variable:\n",
    "readout = gt.Container(\n",
    "    \"MsgOutput_MESSAGEix-GLOBIOM_1.1-R12-MAGPIE__MP00BI78_nov23_2024-02-28_runs_for_MAGICC_MP00.gdx\"\n",
    ")"
   ]
  },
  {
   "cell_type": "code",
   "execution_count": 3,
   "metadata": {},
   "outputs": [
    {
     "name": "stdout",
     "output_type": "stream",
     "text": [
      "<class 'gams.transfer.containers._container.Container'>\n"
     ]
    },
    {
     "data": {
      "text/plain": [
       "['TCE', 'LU_CO2', 'Agri_CH4', 'Agri_N2O', 'BCA_LandUseChangeEM', ..., 'CH4_landuse', 'N2O_landuse', 'CO2_landuse', 'TCE_CO2', 'TCE_non-CO2']\n",
       "Length: 55\n",
       "Categories (55, object): ['TCE' < 'LU_CO2' < 'Agri_CH4' < 'Agri_N2O' ... 'N2O_landuse' < 'CO2_landuse' < 'TCE_CO2' < 'TCE_non-CO2']"
      ]
     },
     "execution_count": 3,
     "metadata": {},
     "output_type": "execute_result"
    }
   ],
   "source": [
    "# Now analyzing the data:\n",
    "print(type(readout))\n",
    "\n",
    "# Subscripting the container, hopefully appears as a Pandas dataframe:\n",
    "df_emiss = readout[\"EMISS\"].records\n",
    "df_emiss[\"emission\"].unique()"
   ]
  },
  {
   "cell_type": "code",
   "execution_count": 4,
   "metadata": {},
   "outputs": [
    {
     "name": "stdout",
     "output_type": "stream",
     "text": [
      "[13877.54318551  9312.31806933  7081.29519027  5635.2338613\n",
      "  4501.62758746  3709.13195746  3176.13174722  2718.96302471\n",
      "  2220.33652918   888.55844195   787.80001971   737.96637327\n",
      "   468.38073469   480.2840646 ]\n"
     ]
    }
   ],
   "source": [
    "# The Total Carbon Equivalent:\n",
    "var_TCE = np.array(\n",
    "    df_emiss[\n",
    "        (df_emiss[\"emission\"] == \"TCE\")\n",
    "        & (df_emiss[\"type_tec\"] == \"all\")\n",
    "        & (df_emiss[\"node\"] == \"World\")\n",
    "    ][\"level\"]\n",
    ")\n",
    "print(var_TCE)"
   ]
  },
  {
   "cell_type": "code",
   "execution_count": 5,
   "metadata": {},
   "outputs": [
    {
     "data": {
      "text/plain": [
       "14"
      ]
     },
     "execution_count": 5,
     "metadata": {},
     "output_type": "execute_result"
    }
   ],
   "source": [
    "# Years:\n",
    "years_str_arr = [str(i) for i in range(2020, 2065, 5)] + [\n",
    "    str(i) for i in range(2070, 2120, 10)\n",
    "]\n",
    "years_int_arr = [i for i in range(2020, 2065, 5)] + [i for i in range(2070, 2120, 10)]\n",
    "len(years_int_arr)"
   ]
  },
  {
   "cell_type": "code",
   "execution_count": 6,
   "metadata": {},
   "outputs": [],
   "source": [
    "# Time average of TCE. First, the year gap:\n",
    "year_gap_2025 = np.zeros(len(years_int_arr))\n",
    "year_gap_2025[0] = 5.0\n",
    "\n",
    "for yr_idx in range(len(year_gap_2025) - 1):\n",
    "    year_gap_2025[yr_idx + 1] = years_int_arr[yr_idx + 1] - years_int_arr[yr_idx]\n",
    "\n",
    "# print(np.sum(year_gap_2025))\n",
    "\n",
    "# Now, the weighted average:\n",
    "time_avg_TCE = np.sum(year_gap_2025 * var_TCE) / np.sum(year_gap_2025)"
   ]
  },
  {
   "cell_type": "code",
   "execution_count": null,
   "metadata": {},
   "outputs": [],
   "source": []
  }
 ],
 "metadata": {
  "kernelspec": {
   "display_name": "message_env",
   "language": "python",
   "name": "python3"
  },
  "language_info": {
   "codemirror_mode": {
    "name": "ipython",
    "version": 3
   },
   "file_extension": ".py",
   "mimetype": "text/x-python",
   "name": "python",
   "nbconvert_exporter": "python",
   "pygments_lexer": "ipython3",
   "version": "3.10.12"
  }
 },
 "nbformat": 4,
 "nbformat_minor": 2
}
